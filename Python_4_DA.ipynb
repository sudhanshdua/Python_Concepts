{
 "cells": [
  {
   "cell_type": "markdown",
   "id": "ac076c1f-ffb1-45da-80ed-d0727cf81cef",
   "metadata": {},
   "source": [
    "# Python for Data Analysis\n",
    "## Chapter 3\n",
    "\n"
   ]
  },
  {
   "cell_type": "markdown",
   "id": "1da4384f-3ae3-416e-990a-b5bc4fab0b3d",
   "metadata": {},
   "source": [
    "---\n",
    "## Tuple\n",
    "</br>"
   ]
  },
  {
   "cell_type": "code",
   "execution_count": 1,
   "id": "1b6371aa-3192-4ee7-afc9-ef5ad63ecf7b",
   "metadata": {},
   "outputs": [
    {
     "data": {
      "text/plain": [
       "(1, 2, 3)"
      ]
     },
     "execution_count": 1,
     "metadata": {},
     "output_type": "execute_result"
    }
   ],
   "source": [
    "tup = 1, 2, 3\n",
    "tup"
   ]
  },
  {
   "cell_type": "code",
   "execution_count": 2,
   "id": "598471b6-2df7-4768-9d9c-d5c9571fe6e7",
   "metadata": {},
   "outputs": [
    {
     "data": {
      "text/plain": [
       "(1, 2, 3, (4, 5))"
      ]
     },
     "execution_count": 2,
     "metadata": {},
     "output_type": "execute_result"
    }
   ],
   "source": [
    "nested_tup = 1, 2, 3, (4, 5)\n",
    "nested_tup"
   ]
  },
  {
   "cell_type": "code",
   "execution_count": 3,
   "id": "4374344f-50c0-4a50-9140-82bf73ce09e9",
   "metadata": {},
   "outputs": [
    {
     "data": {
      "text/plain": [
       "(1, 2, 3)"
      ]
     },
     "execution_count": 3,
     "metadata": {},
     "output_type": "execute_result"
    }
   ],
   "source": [
    "# using the tuple keyword\n",
    "#\n",
    "tuple([1, 2, 3])"
   ]
  },
  {
   "cell_type": "code",
   "execution_count": 4,
   "id": "596135d5-5f7c-474f-b544-e6d279e09804",
   "metadata": {},
   "outputs": [
    {
     "data": {
      "text/plain": [
       "('S', 'u', 'd', 'h', 'a', 'n', 's', 'h')"
      ]
     },
     "execution_count": 4,
     "metadata": {},
     "output_type": "execute_result"
    }
   ],
   "source": [
    "tup2 = tuple('Sudhansh')\n",
    "tup2"
   ]
  },
  {
   "cell_type": "code",
   "execution_count": 5,
   "id": "e1d1f608-071a-4f60-a426-a9e7b1438a0c",
   "metadata": {},
   "outputs": [
    {
     "data": {
      "text/plain": [
       "('S', 'u', 'd')"
      ]
     },
     "execution_count": 5,
     "metadata": {},
     "output_type": "execute_result"
    }
   ],
   "source": [
    "# Accessing the elements\n",
    "#\n",
    "tup2[0 : 3]"
   ]
  },
  {
   "cell_type": "code",
   "execution_count": 6,
   "id": "a2ae9871-5541-493e-ba37-f57babb6bc7c",
   "metadata": {},
   "outputs": [
    {
     "data": {
      "text/plain": [
       "(0, [1, 2, 3, 4], ['Dua'])"
      ]
     },
     "execution_count": 6,
     "metadata": {},
     "output_type": "execute_result"
    }
   ],
   "source": [
    "# an object inside the tuple can be mutable\n",
    "tup3 = tuple( [0, [1, 2, 3], [\"Dua\"]] )\n",
    "\n",
    "# appending the list element inside the tuple\n",
    "tup3[1].append(4)\n",
    "tup3"
   ]
  },
  {
   "cell_type": "code",
   "execution_count": 7,
   "id": "d3718a5f-1925-47a9-81d6-5a9f74757ca9",
   "metadata": {},
   "outputs": [
    {
     "data": {
      "text/plain": [
       "('Berkeley', 'MFE', 'spring', 2023)"
      ]
     },
     "execution_count": 7,
     "metadata": {},
     "output_type": "execute_result"
    }
   ],
   "source": [
    "# concatenating tuples\n",
    "#\n",
    "(\"Berkeley\",) + (\"MFE\",) + (\"spring\", 2023) "
   ]
  },
  {
   "cell_type": "code",
   "execution_count": 8,
   "id": "ad2aa868-1765-4c26-8500-e71263849934",
   "metadata": {},
   "outputs": [
    {
     "name": "stdout",
     "output_type": "stream",
     "text": [
      "1 2 3 4 5\n"
     ]
    }
   ],
   "source": [
    "# Unpacking tuples\n",
    "#\n",
    "tup5 = (1, 2, 3, (4, 5))\n",
    "\n",
    "a, b, c, (d, e) = tup5\n",
    "\n",
    "print(a, b, c, d, e)"
   ]
  },
  {
   "cell_type": "code",
   "execution_count": 9,
   "id": "2603fffa-5770-44fe-acd6-78ef5b9f63d7",
   "metadata": {},
   "outputs": [
    {
     "data": {
      "text/plain": [
       "(100, 1)"
      ]
     },
     "execution_count": 9,
     "metadata": {},
     "output_type": "execute_result"
    }
   ],
   "source": [
    "# Swapping in python\n",
    "#\n",
    "a, b = 1, 100\n",
    "\n",
    "b, a = a, b\n",
    "\n",
    "a, b"
   ]
  },
  {
   "cell_type": "code",
   "execution_count": 10,
   "id": "083e8d7e-9705-4685-a22a-185f761326d7",
   "metadata": {},
   "outputs": [
    {
     "name": "stdout",
     "output_type": "stream",
     "text": [
      "a= 1, b= 2, c= 3\n",
      "a= 4, b= 5, c= 6\n",
      "a= 7, b= 8, c= 9\n"
     ]
    }
   ],
   "source": [
    "# Iterating over the sequences of Tuples\n",
    "#\n",
    "sequence = [(1, 2, 3), (4, 5, 6), (7, 8, 9)]\n",
    "\n",
    "for a, b, c in sequence:\n",
    "    print(\"a= {0}, b= {1}, c= {2}\".format(a, b, c))\n",
    "    "
   ]
  },
  {
   "cell_type": "code",
   "execution_count": 11,
   "id": "3761569f-abf3-419e-bc55-cbebef9c32ac",
   "metadata": {},
   "outputs": [
    {
     "name": "stdout",
     "output_type": "stream",
     "text": [
      "1 2\n",
      "1 2\n"
     ]
    }
   ],
   "source": [
    "values = 1, 2, 3, 4, 5\n",
    "\n",
    "# Plucking a few elements\n",
    "#\n",
    "# using *rest\n",
    "a, b, *rest = values\n",
    "print(a, b)\n",
    "\n",
    "# using *_\n",
    "e, f, *_ = values\n",
    "print(e, f)"
   ]
  },
  {
   "cell_type": "code",
   "execution_count": 12,
   "id": "b97087b3-1fb1-4f75-9606-80309a12dbdc",
   "metadata": {},
   "outputs": [
    {
     "data": {
      "text/plain": [
       "5"
      ]
     },
     "execution_count": 12,
     "metadata": {},
     "output_type": "execute_result"
    }
   ],
   "source": [
    "# Tuple methods\n",
    "#\n",
    "tup7 = 1, 2, 3, 4, 5, 5, 5, 5, 5, 6, 10\n",
    "\n",
    "tup7.count(5)"
   ]
  },
  {
   "cell_type": "markdown",
   "id": "3af7de76-5fe4-4fef-a29d-28130e7522ed",
   "metadata": {
    "tags": []
   },
   "source": [
    "---\n",
    "## List\n",
    "</br>"
   ]
  },
  {
   "cell_type": "code",
   "execution_count": 13,
   "id": "ac6127a6-12bd-47e9-9255-7dc266bddca6",
   "metadata": {},
   "outputs": [
    {
     "data": {
      "text/plain": [
       "[14, 'July', 1997]"
      ]
     },
     "execution_count": 13,
     "metadata": {},
     "output_type": "execute_result"
    }
   ],
   "source": [
    "list1 = [1, 2, 3, None]\n",
    "tup8 = (14, \"July\", 1997)\n",
    "\n",
    "list2 = list(tup8)\n",
    "list2"
   ]
  },
  {
   "cell_type": "code",
   "execution_count": 14,
   "id": "1eb95ff8-2d06-45c9-a2ff-162f4f7fe36d",
   "metadata": {},
   "outputs": [
    {
     "data": {
      "text/plain": [
       "[0, 1, 2, 3, 4]"
      ]
     },
     "execution_count": 14,
     "metadata": {},
     "output_type": "execute_result"
    }
   ],
   "source": [
    "list3 = list(range(5))\n",
    "list3"
   ]
  },
  {
   "cell_type": "code",
   "execution_count": 15,
   "id": "cf2a7073-301d-42bd-a498-a5c5945b6030",
   "metadata": {},
   "outputs": [
    {
     "data": {
      "text/plain": [
       "[0, 1, 2, 3, 4, 5]"
      ]
     },
     "execution_count": 15,
     "metadata": {},
     "output_type": "execute_result"
    }
   ],
   "source": [
    "# adding an element in the end\n",
    "#\n",
    "list3.append(5)\n",
    "list3"
   ]
  },
  {
   "cell_type": "code",
   "execution_count": 16,
   "id": "6f5fa508-17e0-4195-96a4-96b0b21481e0",
   "metadata": {},
   "outputs": [
    {
     "data": {
      "text/plain": [
       "[0, 1, 2.5, 2, 3, 4, 5]"
      ]
     },
     "execution_count": 16,
     "metadata": {},
     "output_type": "execute_result"
    }
   ],
   "source": [
    "# inserting an element by index\n",
    "#\n",
    "list3.insert(2, 2.5)\n",
    "list3"
   ]
  },
  {
   "cell_type": "code",
   "execution_count": 17,
   "id": "37cfd8cc-914a-4e1f-a771-ae086035446d",
   "metadata": {},
   "outputs": [
    {
     "data": {
      "text/plain": [
       "[1, 2.5, 2, 3, 4, 5]"
      ]
     },
     "execution_count": 17,
     "metadata": {},
     "output_type": "execute_result"
    }
   ],
   "source": [
    "# removing an element by index\n",
    "#\n",
    "list3.pop(0)\n",
    "list3"
   ]
  },
  {
   "cell_type": "code",
   "execution_count": 18,
   "id": "e98914c5-484c-48dd-90bb-29ab61a810f9",
   "metadata": {},
   "outputs": [
    {
     "data": {
      "text/plain": [
       "[1, 2, 3, 4, 5]"
      ]
     },
     "execution_count": 18,
     "metadata": {},
     "output_type": "execute_result"
    }
   ],
   "source": [
    "# removing a specific element by value\n",
    "#\n",
    "list3.remove(2.5)\n",
    "\n",
    "list3"
   ]
  },
  {
   "cell_type": "code",
   "execution_count": 19,
   "id": "62c9a923-277a-4b8d-a54c-519f7dc47f84",
   "metadata": {},
   "outputs": [
    {
     "data": {
      "text/plain": [
       "True"
      ]
     },
     "execution_count": 19,
     "metadata": {},
     "output_type": "execute_result"
    }
   ],
   "source": [
    "# Check if a list contains a value using the in keyword\n",
    "#\n",
    "2 in list3"
   ]
  },
  {
   "cell_type": "code",
   "execution_count": 20,
   "id": "35dbc3f1-b681-42f1-82a7-4a35a6d6f51e",
   "metadata": {},
   "outputs": [
    {
     "data": {
      "text/plain": [
       "False"
      ]
     },
     "execution_count": 20,
     "metadata": {},
     "output_type": "execute_result"
    }
   ],
   "source": [
    "1 not in list3"
   ]
  },
  {
   "cell_type": "code",
   "execution_count": 21,
   "id": "f68ecb69-e1c5-43dd-9788-9040ee7076bd",
   "metadata": {},
   "outputs": [
    {
     "data": {
      "text/plain": [
       "[10, 20, 30, 40, 50, (60, 70)]"
      ]
     },
     "execution_count": 21,
     "metadata": {},
     "output_type": "execute_result"
    }
   ],
   "source": [
    "# Concatenating and combining lists\n",
    "#\n",
    "[10, 20, 30] + [40, 50, (60, 70)]"
   ]
  },
  {
   "cell_type": "code",
   "execution_count": 22,
   "id": "2c45986a-9496-4ccf-9c8a-1c71a69ff824",
   "metadata": {},
   "outputs": [
    {
     "data": {
      "text/plain": [
       "[10, 20, 30, 40, 50, (60, 70)]"
      ]
     },
     "execution_count": 22,
     "metadata": {},
     "output_type": "execute_result"
    }
   ],
   "source": [
    "# another method\n",
    "#\n",
    "list4 = [10, 20, 30]\n",
    "\n",
    "list4.extend([40, 50, (60, 70)])\n",
    "list4"
   ]
  },
  {
   "cell_type": "code",
   "execution_count": 23,
   "id": "e4d5a326-8909-4ebc-a0d2-84a6cf6be850",
   "metadata": {},
   "outputs": [
    {
     "data": {
      "text/plain": [
       "[1, 2, 3, 5, 8, 9, 10]"
      ]
     },
     "execution_count": 23,
     "metadata": {},
     "output_type": "execute_result"
    }
   ],
   "source": [
    "# sorting\n",
    "#\n",
    "list5 = [10, 9, 5, 8, 1, 2, 3]\n",
    "\n",
    "list5.sort()\n",
    "list5"
   ]
  },
  {
   "cell_type": "code",
   "execution_count": 24,
   "id": "1bad2c4f-880f-40fc-a84c-ddcd2255a0e6",
   "metadata": {},
   "outputs": [
    {
     "data": {
      "text/plain": [
       "['Hedge Fund', 'Buy side', 'Quant', 'MFE', 'SD']"
      ]
     },
     "execution_count": 24,
     "metadata": {},
     "output_type": "execute_result"
    }
   ],
   "source": [
    "# special sorting \n",
    "#\n",
    "list6 = [\"Buy side\", \"SD\", \"Quant\", \"Hedge Fund\", \"MFE\"]\n",
    "list6.sort(key = len, reverse= True)\n",
    "list6"
   ]
  },
  {
   "cell_type": "code",
   "execution_count": 25,
   "id": "e13130de-1bcc-4f9e-b966-896eb410731f",
   "metadata": {},
   "outputs": [
    {
     "data": {
      "text/plain": [
       "[1, 2, 3, 3, 3, 4, 4, 5, 7, 8]"
      ]
     },
     "execution_count": 25,
     "metadata": {},
     "output_type": "execute_result"
    }
   ],
   "source": [
    "import bisect\n",
    "\n",
    "# Binary search and maintaining a sorted list\n",
    "#\n",
    "list7 = [1, 2, 3, 3, 4, 4, 5, 8]\n",
    "\n",
    "# where to add the numbers and to make sure the list remains sorted\n",
    "#\n",
    "bisect.bisect(list7, 3), bisect.bisect(list7, 7)\n",
    "\n",
    "# adding the number and making sure the list os sorted\n",
    "#\n",
    "bisect.insort(list7, 3)\n",
    "bisect.insort(list7, 7)\n",
    "\n",
    "list7\n",
    "\n",
    "# NOTE: The bisect module functions do not check whether the inputted list is sorted or not!"
   ]
  },
  {
   "cell_type": "code",
   "execution_count": 26,
   "id": "d0f6222b-c699-446a-a727-5a9008c39897",
   "metadata": {},
   "outputs": [
    {
     "data": {
      "text/plain": [
       "[2, 3, 3, 3]"
      ]
     },
     "execution_count": 26,
     "metadata": {},
     "output_type": "execute_result"
    }
   ],
   "source": [
    "# Slicing \n",
    "#\n",
    "list7[1 : 5]"
   ]
  },
  {
   "cell_type": "code",
   "execution_count": 27,
   "id": "3fa0f3d8-da73-44d5-b2df-d287b5695d90",
   "metadata": {},
   "outputs": [
    {
     "data": {
      "text/plain": [
       "[1, 2.5, 3, 3.5, 4, 4, 4, 5, 7, 8]"
      ]
     },
     "execution_count": 27,
     "metadata": {},
     "output_type": "execute_result"
    }
   ],
   "source": [
    "list7[1:5] = [2.5, 3, 3.5, 4]\n",
    "list7"
   ]
  },
  {
   "cell_type": "code",
   "execution_count": 28,
   "id": "e4c493e6-d4e1-4887-8b94-cb71e5c6fe98",
   "metadata": {},
   "outputs": [
    {
     "data": {
      "text/plain": [
       "[1, 2.5, 3, 3.5, 4]"
      ]
     },
     "execution_count": 28,
     "metadata": {},
     "output_type": "execute_result"
    }
   ],
   "source": [
    "list7[ : 5]"
   ]
  },
  {
   "cell_type": "code",
   "execution_count": 29,
   "id": "fc2f7476-df70-4153-83f5-bab3ef1bb99c",
   "metadata": {},
   "outputs": [
    {
     "data": {
      "text/plain": [
       "[4, 5, 7, 8]"
      ]
     },
     "execution_count": 29,
     "metadata": {},
     "output_type": "execute_result"
    }
   ],
   "source": [
    "list7[-4 : ]"
   ]
  },
  {
   "cell_type": "code",
   "execution_count": 30,
   "id": "11f1c4be-fd05-4050-897e-cc8c808f6085",
   "metadata": {},
   "outputs": [
    {
     "data": {
      "text/plain": [
       "[8, 7, 5, 4, 4, 4, 3.5, 3, 2.5, 1]"
      ]
     },
     "execution_count": 30,
     "metadata": {},
     "output_type": "execute_result"
    }
   ],
   "source": [
    "# reversing the list \n",
    "#\n",
    "# start : stop : step\n",
    "list7[ : : -1]"
   ]
  },
  {
   "cell_type": "markdown",
   "id": "6913d2fc-5b82-4d51-adb2-e069fad46563",
   "metadata": {},
   "source": [
    "#### Built-in Sequence Functions"
   ]
  },
  {
   "cell_type": "code",
   "execution_count": 31,
   "id": "36e72e7e-58a4-4b06-b835-73d63c48ab4e",
   "metadata": {},
   "outputs": [
    {
     "data": {
      "text/plain": [
       "{0: 'Math', 1: 'Stats', 2: 'Python'}"
      ]
     },
     "execution_count": 31,
     "metadata": {},
     "output_type": "execute_result"
    }
   ],
   "source": [
    "# 1. enumerate\n",
    "#\n",
    "list8 = [\"Math\", \"Stats\", \"Python\"]\n",
    "#\n",
    "dict1 = {}\n",
    "#\n",
    "for i, value in enumerate(list8):\n",
    "    dict1[i] = value\n",
    "\n",
    "dict1"
   ]
  },
  {
   "cell_type": "code",
   "execution_count": 32,
   "id": "83630974-502c-4108-9c79-acbfa105d83c",
   "metadata": {},
   "outputs": [
    {
     "data": {
      "text/plain": [
       "[-9, -1, 0, 1, 3, 4, 8]"
      ]
     },
     "execution_count": 32,
     "metadata": {},
     "output_type": "execute_result"
    }
   ],
   "source": [
    "# 2. sorted\n",
    "#\n",
    "sorted( [1, 4, 3, 0, -1, -9, 8] )"
   ]
  },
  {
   "cell_type": "code",
   "execution_count": 33,
   "id": "7bbce904-e60c-4229-af85-651c12b12b2c",
   "metadata": {},
   "outputs": [
    {
     "data": {
      "text/plain": [
       "[' ', 'A', 'A', 'D', 'D', 'H', 'H', 'N', 'S', 'S', 'U', 'U']"
      ]
     },
     "execution_count": 33,
     "metadata": {},
     "output_type": "execute_result"
    }
   ],
   "source": [
    "sorted(\"SUDHANSH DUA\")"
   ]
  },
  {
   "cell_type": "code",
   "execution_count": 34,
   "id": "ebb432ba-7f7a-4495-94d1-56c1c25982fe",
   "metadata": {},
   "outputs": [
    {
     "data": {
      "text/plain": [
       "[('Quant Research', 'Quant Dev'),\n",
       " ('Quant Trading', 'Risk Quant'),\n",
       " ('Quant P.M.', 'Strat'),\n",
       " ('Buy-side', 'Sell-side')]"
      ]
     },
     "execution_count": 34,
     "metadata": {},
     "output_type": "execute_result"
    }
   ],
   "source": [
    "# 3. zip\n",
    "#\n",
    "# “pairs” up the elements of a number of lists, tuples, or other sequences to create a list of tuples\n",
    "#\n",
    "list9 = [\"Quant Research\", \"Quant Trading\", \"Quant P.M.\", \"Buy-side\"]\n",
    "list10 = [\"Quant Dev\", \"Risk Quant\", \"Strat\", \"Sell-side\"]\n",
    "#\n",
    "# tuple of lists\n",
    "zipped_tup = zip(list9, list10)\n",
    "\n",
    "# list of lists\n",
    "zipped_list = list(zipped_tup)\n",
    "\n",
    "zipped_list"
   ]
  },
  {
   "cell_type": "code",
   "execution_count": 35,
   "id": "ee328268-c486-44ce-8401-fe5c55e10eed",
   "metadata": {},
   "outputs": [
    {
     "name": "stdout",
     "output_type": "stream",
     "text": [
      "What to do and what not to do\n",
      "\n",
      "1: \tQuant Research \t OR \t Quant Dev\n",
      "------------------------------------------\n",
      "2: \tQuant Trading \t OR \t Risk Quant\n",
      "------------------------------------------\n",
      "3: \tQuant P.M. \t OR \t Strat\n",
      "------------------------------------------\n",
      "4: \tBuy-side \t OR \t Sell-side\n",
      "------------------------------------------\n"
     ]
    }
   ],
   "source": [
    "print(\"What to do and what not to do\\n\")\n",
    "\n",
    "for i, (a, b) in enumerate(zip(list9, list10)):\n",
    "    print(\"{0}: \\t{1} \\t OR \\t {2}\".format(i+1, a, b))\n",
    "    print(\"------------------------------------------\")"
   ]
  },
  {
   "cell_type": "code",
   "execution_count": 36,
   "id": "6c8751a9-61dd-435a-8c21-d7fabbf2c5de",
   "metadata": {},
   "outputs": [
    {
     "name": "stdout",
     "output_type": "stream",
     "text": [
      "('Conan', 'Jimmy', 'Stephen', 'Jimmy') \n",
      " (\"O'Brien\", 'Fallon', 'Colbert', 'Kimmel') \n",
      "\n",
      "\n"
     ]
    }
   ],
   "source": [
    "# Given a “zipped” sequence, zip can be applied in a clever way to “unzip” the sequence. \n",
    "#\n",
    "late_night_hosts = [(\"Conan\", \"O'Brien\"), (\"Jimmy\", \"Fallon\"), (\"Stephen\", \"Colbert\"), (\"Jimmy\", \"Kimmel\")]\n",
    "\n",
    "first_names, last_names = zip(*late_night_hosts)\n",
    "\n",
    "print(first_names, \"\\n\", last_names, \"\\n\\n\")"
   ]
  },
  {
   "cell_type": "code",
   "execution_count": 37,
   "id": "deafd73b-24b4-4492-9bdc-3628f5f22e66",
   "metadata": {},
   "outputs": [
    {
     "data": {
      "text/plain": [
       "[100, 90, 80, 70, 60, 50, 40, 30, 20, 10, 0]"
      ]
     },
     "execution_count": 37,
     "metadata": {},
     "output_type": "execute_result"
    }
   ],
   "source": [
    "# 4. reversed\n",
    "#\n",
    "list(reversed(range(0, 110, 10)))"
   ]
  },
  {
   "cell_type": "markdown",
   "id": "95ef7353-b89f-4adb-9f1a-0f135a934ef9",
   "metadata": {},
   "source": [
    "---\n",
    "## Dict\n",
    "</br>"
   ]
  },
  {
   "cell_type": "code",
   "execution_count": 38,
   "id": "6db475b1-0b7e-4d33-af79-7999abb53bfc",
   "metadata": {},
   "outputs": [
    {
     "data": {
      "text/plain": [
       "{'a': [1, 2, 3], 'b': [7, 8, 9], 'x': 'an integer'}"
      ]
     },
     "execution_count": 38,
     "metadata": {},
     "output_type": "execute_result"
    }
   ],
   "source": [
    "empty_dict = {}\n",
    "\n",
    "\n",
    "dict1 = { \"a\" : [1, 2, 3], \n",
    "          \"b\" : [7, 8, 9]\n",
    "        }\n",
    "\n",
    "# setting element\n",
    "#\n",
    "dict1[\"x\"] = 'an integer'\n",
    "dict1"
   ]
  },
  {
   "cell_type": "code",
   "execution_count": 39,
   "id": "e62efc58-0376-4394-9b4f-eb6a45523baa",
   "metadata": {},
   "outputs": [
    {
     "data": {
      "text/plain": [
       "[7, 8, 9]"
      ]
     },
     "execution_count": 39,
     "metadata": {},
     "output_type": "execute_result"
    }
   ],
   "source": [
    "# accessing elements\n",
    "#\n",
    "dict1[\"b\"]"
   ]
  },
  {
   "cell_type": "code",
   "execution_count": 40,
   "id": "9232bfb9-c7e3-427d-99df-2969a5fe7929",
   "metadata": {},
   "outputs": [
    {
     "name": "stdout",
     "output_type": "stream",
     "text": [
      "False\n",
      "True\n"
     ]
    }
   ],
   "source": [
    "# check if a dict contains a key\n",
    "#\n",
    "# wrong\n",
    "print(b in dict1)\n",
    "\n",
    "# right\n",
    "print(\"b\" in dict1)"
   ]
  },
  {
   "cell_type": "code",
   "execution_count": 41,
   "id": "e376ea73-3956-4018-8afe-7801bc95c5da",
   "metadata": {},
   "outputs": [
    {
     "data": {
      "text/plain": [
       "{'a': [1, 2, 3], 'b': [7, 8, 9], 'x': 'an integer'}"
      ]
     },
     "execution_count": 41,
     "metadata": {},
     "output_type": "execute_result"
    }
   ],
   "source": [
    "# deleting values either using the del keyword or the pop method\n",
    "#\n",
    "dict1[\"y\"] = 'a complex number'\n",
    "dict1[\"z\"] = 'an irrational number'\n",
    "\n",
    "# method 1\n",
    "del dict1[\"z\"]            # removes without returning\n",
    "# method 2\n",
    "dict1.pop(\"y\")            # removes and returns the value\n",
    "\n",
    "dict1"
   ]
  },
  {
   "cell_type": "code",
   "execution_count": 42,
   "id": "3ceca257-3240-404a-a3d5-d05c85d0d1a5",
   "metadata": {},
   "outputs": [
    {
     "name": "stdout",
     "output_type": "stream",
     "text": [
      "['a', 'b', 'x'] \n",
      "\n",
      " [[1, 2, 3], [7, 8, 9], 'an integer']\n"
     ]
    }
   ],
   "source": [
    "# keys and values method give you iterators of the dict’s keys and values, respectively\n",
    "#\n",
    "print(list(dict1.keys()), \"\\n\\n\",  list(dict1.values()))\n"
   ]
  },
  {
   "cell_type": "code",
   "execution_count": 43,
   "id": "01b817d9-e86f-4124-8d34-3a9e2d2d4f4a",
   "metadata": {},
   "outputs": [
    {
     "data": {
      "text/plain": [
       "{'a': [1, 2, 3],\n",
       " 'b': [7, 8, 9],\n",
       " 'x': 'a negative integer',\n",
       " 'y': 'a complex number',\n",
       " 'z': 'an irrational number'}"
      ]
     },
     "execution_count": 43,
     "metadata": {},
     "output_type": "execute_result"
    }
   ],
   "source": [
    "# merge one dict into another using the update method\n",
    "#\n",
    "# the value of key \"x\" will be changed\n",
    "dict1.update( {\"x\": \"a negative integer\", \"y\": \"a complex number\", \"z\": \"an irrational number\"} )\n",
    "dict1"
   ]
  },
  {
   "cell_type": "code",
   "execution_count": 44,
   "id": "b8ed76a7-cf7c-4919-ae80-e7b73fc096f4",
   "metadata": {},
   "outputs": [
    {
     "data": {
      "text/plain": [
       "{0: 10, 1: 9, 2: 8, 3: 7, 4: 6, 5: 5, 6: 4, 7: 3, 8: 2, 9: 1, 10: 0}"
      ]
     },
     "execution_count": 44,
     "metadata": {},
     "output_type": "execute_result"
    }
   ],
   "source": [
    "# Creating dicts from sequences\n",
    "#\n",
    "mapping = dict(  zip( range(11), reversed(range(11)) )  )\n",
    "mapping"
   ]
  },
  {
   "cell_type": "code",
   "execution_count": 45,
   "id": "42482c4e-15ce-4d80-b61b-e72baed819c1",
   "metadata": {},
   "outputs": [
    {
     "data": {
      "text/plain": [
       "{'a': ['apple', 'atom'], 'b': ['bat', 'bar', 'book']}"
      ]
     },
     "execution_count": 45,
     "metadata": {},
     "output_type": "execute_result"
    }
   ],
   "source": [
    "words = ['apple', 'bat', 'bar', 'atom', 'book']\n",
    "by_letter = {}\n",
    "\n",
    "for word in words:\n",
    "    letter = word[0]\n",
    "    \n",
    "    if letter not in by_letter:\n",
    "        by_letter[letter] = [word]\n",
    "        \n",
    "    else:\n",
    "        by_letter[letter].append(word)\n",
    "        \n",
    "by_letter"
   ]
  },
  {
   "cell_type": "code",
   "execution_count": 46,
   "id": "b0664a12-6c62-4d45-8e03-5f64077868ea",
   "metadata": {},
   "outputs": [
    {
     "data": {
      "text/plain": [
       "{'a': ['apple', 'atom'], 'b': ['bat', 'bar', 'book']}"
      ]
     },
     "execution_count": 46,
     "metadata": {},
     "output_type": "execute_result"
    }
   ],
   "source": [
    "# The setdefault dict method is for precisely this purpose. \n",
    "# The preceding for loop can be rewritten as:\n",
    "\n",
    "by_letter = {}\n",
    "\n",
    "for word in words:\n",
    "    letter = word[0] \n",
    "    by_letter.setdefault(letter, []).append(word)\n",
    "    \n",
    "by_letter"
   ]
  },
  {
   "cell_type": "code",
   "execution_count": 47,
   "id": "3036bb19-cdfa-4308-bf9a-7ea8eca19427",
   "metadata": {},
   "outputs": [
    {
     "data": {
      "text/plain": [
       "defaultdict(list, {'a': ['apple', 'atom'], 'b': ['bat', 'bar', 'book']})"
      ]
     },
     "execution_count": 47,
     "metadata": {},
     "output_type": "execute_result"
    }
   ],
   "source": [
    "# The built-in collections module has a useful class, defaultdict, which makes this even easier. \n",
    "#\n",
    "\n",
    "by_letter= {}\n",
    "\n",
    "from collections import defaultdict\n",
    "\n",
    "by_letter = defaultdict(list)\n",
    "for word in words:\n",
    "    by_letter[word[0]].append(word)\n",
    "    \n",
    "by_letter"
   ]
  },
  {
   "cell_type": "code",
   "execution_count": 48,
   "id": "bc6bee43-06f6-4135-8c07-905b486de6a5",
   "metadata": {},
   "outputs": [
    {
     "name": "stdout",
     "output_type": "stream",
     "text": [
      "3777214479449254819\n",
      "8733477148793167552\n",
      "-6479840231110565894\n"
     ]
    },
    {
     "data": {
      "text/plain": [
       "{(1, 2, 3): 'a'}"
      ]
     },
     "execution_count": 48,
     "metadata": {},
     "output_type": "execute_result"
    }
   ],
   "source": [
    "# While the values of a dict can be any Python object, \n",
    "# the keys generally have to be immutable objects like scalar types (int, float, string) \n",
    "#          or \n",
    "# tuples (all the objects in the tuple need to be immutable, too).\n",
    "\n",
    "print(hash(\"string\"))\n",
    "print(hash((1, 2, 3 ,(4, 5, 6))))\n",
    "print(hash(\"100\"))\n",
    "\n",
    "dict2 = { tuple([1, 2, 3]) : \"a\"}\n",
    "dict2"
   ]
  },
  {
   "cell_type": "markdown",
   "id": "e1605836-d60d-46c6-8a31-5f25db34bb5b",
   "metadata": {},
   "source": [
    "---\n",
    "## Set\n",
    "</br>"
   ]
  },
  {
   "cell_type": "code",
   "execution_count": null,
   "id": "46be7783-c500-4498-bf3c-999a6005a8cf",
   "metadata": {},
   "outputs": [],
   "source": []
  }
 ],
 "metadata": {
  "kernelspec": {
   "display_name": "Python 3 (ipykernel)",
   "language": "python",
   "name": "python3"
  },
  "language_info": {
   "codemirror_mode": {
    "name": "ipython",
    "version": 3
   },
   "file_extension": ".py",
   "mimetype": "text/x-python",
   "name": "python",
   "nbconvert_exporter": "python",
   "pygments_lexer": "ipython3",
   "version": "3.9.12"
  }
 },
 "nbformat": 4,
 "nbformat_minor": 5
}
