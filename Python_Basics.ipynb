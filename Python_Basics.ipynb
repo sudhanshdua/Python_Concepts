{
 "cells": [
  {
   "cell_type": "markdown",
   "metadata": {},
   "source": [
    "# Python Basics & Containers"
   ]
  },
  {
   "cell_type": "markdown",
   "metadata": {},
   "source": [
    "---\n",
    "### 1. Numbers\n",
    "\n",
    "* Integers\n",
    "* Floating point numbers\n"
   ]
  },
  {
   "cell_type": "code",
   "execution_count": 1,
   "metadata": {},
   "outputs": [
    {
     "name": "stdout",
     "output_type": "stream",
     "text": [
      "7 \t <class 'int'>\n",
      "7.0 \t <class 'float'>\n",
      "\n",
      "\n",
      "\n"
     ]
    }
   ],
   "source": [
    "num1 = 5\n",
    "num2 = 2\n",
    "num3 = num1 + num2\n",
    "print(num3, \"\\t\", type(num3))          # <---- shown without a decimal point (integer)\n",
    "\n",
    "\n",
    "# perfomring a math operation with a floating point number\n",
    "num4 = num3 * 1.0                      \n",
    "print(num4, \"\\t\", type(num4))          # <---- shown with a decimal point (floating point number)\n",
    "\n",
    "print(\"\\n\\n\")"
   ]
  },
  {
   "cell_type": "markdown",
   "metadata": {},
   "source": [
    "---\n",
    "### 2. Variables"
   ]
  },
  {
   "cell_type": "code",
   "execution_count": 2,
   "metadata": {},
   "outputs": [
    {
     "name": "stdout",
     "output_type": "stream",
     "text": [
      "10 20\n",
      "20 10\n",
      "10 20\n",
      "\n",
      "\n",
      "\n"
     ]
    }
   ],
   "source": [
    "# We don't need to specify which data type the varibale is while declaring it\n",
    "# unlike C++ and Java, python can dynamically update the data type to a variable when a value is assigned to it\n",
    "\n",
    "\n",
    "a = 10\n",
    "b = 20\n",
    "print(a, b)    # 10, 20\n",
    "\n",
    "# Swapping operation 1\n",
    "temp = a\n",
    "a = b\n",
    "b = temp\n",
    "print(a, b)    # 20, 10\n",
    "\n",
    "# Swapping operation 2  (not possible in C++)\n",
    "a, b = b, a\n",
    "print(a, b)    # 10, 20\n",
    "\n",
    "print(\"\\n\\n\")\n"
   ]
  },
  {
   "cell_type": "markdown",
   "metadata": {},
   "source": [
    "---\n",
    "### 3. Operators\n",
    "\n",
    "3.1 Unary:\n",
    "* Negation operator (-)\n",
    "\n",
    "<br>\n",
    "\n",
    "3.2 Binary:\n",
    "* Addition (+)\n",
    "* Subtraction (-)\n",
    "* Multiplication (*)\n",
    "* Division (/)\n",
    "* Exponent (**)\n",
    "<br>\n",
    "\n",
    "*(Everyone knows the operators mentioned above, but what about the following?)*\n",
    "* Floor Division (//)\n",
    "* Modulus (%)\n",
    "\n",
    "<br>\n",
    "\n"
   ]
  },
  {
   "cell_type": "code",
   "execution_count": 3,
   "metadata": {},
   "outputs": [
    {
     "name": "stdout",
     "output_type": "stream",
     "text": [
      "a / b \t= 2.5 \n",
      "a // b \t= 2 \n",
      "a % b \t= 5 \n",
      "\n",
      "\n"
     ]
    }
   ],
   "source": [
    "a = 25\n",
    "b = 10\n",
    "print(\"a / b \\t=\", a/b, \"\\na // b \\t=\", a//b, \"\\na % b \\t=\", a%b, \"\\n\\n\")\n"
   ]
  },
  {
   "cell_type": "markdown",
   "metadata": {},
   "source": [
    "---\n",
    "### 4. Strings\n",
    "\n",
    "* indexing\n",
    "* Slicing\n",
    "* Concatenation\n",
    "* Separators"
   ]
  },
  {
   "cell_type": "code",
   "execution_count": 4,
   "metadata": {},
   "outputs": [
    {
     "name": "stdout",
     "output_type": "stream",
     "text": [
      "1st letter:\n",
      "normal indexing \t= S \n",
      "backward indexing \t= S\n",
      "\n",
      "\n",
      "First name: \t Sudhansh\n",
      "Last name: \t Dua \n",
      "\n",
      "\n"
     ]
    }
   ],
   "source": [
    "# Indexing\n",
    "name = \"Sudhansh Dua\"  # 12 characters\n",
    "print(\"1st letter:\\nnormal indexing \\t=\", name[0], \"\\nbackward indexing \\t=\", name[-12])\n",
    "\n",
    "\n",
    "# Slicing\n",
    "print(\"\\n\\nFirst name: \\t\", name[ : 8])       # from 0th to the 8th index, it won't include the 8th index value i.e. [0, 8) or [0, 7]\n",
    "print(\"Last name: \\t\", name[-3 : ], \"\\n\\n\")   # the last character is included [-3, -1]\n"
   ]
  },
  {
   "cell_type": "code",
   "execution_count": 5,
   "metadata": {},
   "outputs": [
    {
     "name": "stdout",
     "output_type": "stream",
     "text": [
      "[1, 3, 5, 7]\n",
      "[2, 6]\n",
      "[3, 4, 5, 6, 7]\n",
      "\n",
      "\n",
      "\n"
     ]
    }
   ],
   "source": [
    "# Slicing with step size\n",
    "\n",
    "numbers = [1, 2, 3, 4, 5, 6, 7, 8]\n",
    "print(numbers[ : : 2])                        # from 1st to last character with a step size of 2\n",
    "print(numbers[1: : 4])                        # from 2nd to last character with a step size of 4\n",
    "print(numbers[2: -1: ])                       # from 3rd to second last character with a step size of 1\n",
    "print(\"\\n\\n\")"
   ]
  },
  {
   "cell_type": "code",
   "execution_count": 6,
   "metadata": {},
   "outputs": [
    {
     "name": "stdout",
     "output_type": "stream",
     "text": [
      "Full name:\t Sudhansh Dua\n",
      "\n",
      "\n",
      "\n"
     ]
    }
   ],
   "source": [
    "# Concatenation\n",
    "\n",
    "\n",
    "first_name = \"Sudhansh\"\n",
    "last_name = \"Dua\"\n",
    "full_name = first_name + \" \" + last_name\n",
    "print(\"Full name:\\t\", full_name)\n",
    "\n",
    "\n",
    "print(\"\\n\\n\")"
   ]
  },
  {
   "cell_type": "markdown",
   "metadata": {},
   "source": [
    "---\n",
    "### 5. Print function"
   ]
  },
  {
   "cell_type": "code",
   "execution_count": 7,
   "metadata": {},
   "outputs": [
    {
     "name": "stdout",
     "output_type": "stream",
     "text": [
      "Date of Birth:\n",
      "14 / 07 / 1997\n",
      "\n",
      "1 . 2 . 3 . 4 . 5\n",
      "6 | 7 | 8 | 9 | 10\n",
      "\n",
      "\n",
      "U S A\n",
      "U S A\n",
      "\n",
      "\n",
      "\n"
     ]
    }
   ],
   "source": [
    "# Separators\n",
    "print(\"Date of Birth:\")\n",
    "print(\"14\", \"07\", \"1997\", sep = \" / \")\n",
    "\n",
    "print(\"\\n1\", \"2\", \"3\", \"4\", \"5\", sep = \" . \")\n",
    "print(\"6\", \"7\", \"8\", \"9\", \"10\\n\\n\", sep = \" | \")\n",
    "\n",
    "\n",
    "# 2 methods of separation\n",
    "print(\"U\", \"S\", \"A\", sep = \" \")\n",
    "print(*\"USA\")\n",
    "\n",
    "\n",
    "print(\"\\n\\n\")"
   ]
  },
  {
   "cell_type": "code",
   "execution_count": 8,
   "metadata": {},
   "outputs": [
    {
     "name": "stdout",
     "output_type": "stream",
     "text": [
      "My name is Sudhansh.\n",
      "Currently, I'm 24 years old\n",
      "\n",
      "I want to become a Quant.\n",
      "I can code in the following programming languages: C/C++ and python\n",
      "Also, I can squat 140 kgs!\n",
      "\n",
      "\n",
      "\n"
     ]
    }
   ],
   "source": [
    "# Formatting strings\n",
    "\n",
    "print(\"My name is {}.\\nCurrently, I'm {} years old\".format(first_name, 24))\n",
    "\n",
    "profession = \"Quant\"\n",
    "programming = \"C/C++ and python\"\n",
    "squat = 140 \n",
    "\n",
    "print(\"\\nI want to become a %s.\" % profession)\n",
    "print(\"I can code in the following programming languages: %s\" % programming)\n",
    "print(\"Also, I can squat %d kgs!\" % squat)\n",
    "\n",
    "print(\"\\n\\n\")"
   ]
  },
  {
   "cell_type": "markdown",
   "metadata": {},
   "source": [
    "---\n",
    "### 6. Containers\n",
    "* Lists\n",
    "* tuples\n",
    "* Dictionaries\n",
    "* Sets"
   ]
  },
  {
   "cell_type": "code",
   "execution_count": 9,
   "metadata": {},
   "outputs": [
    {
     "name": "stdout",
     "output_type": "stream",
     "text": [
      "[40, 35, 20, 1] \n",
      "\n",
      "[40, 35, 20, 1, 0.5] \n",
      "\n",
      "0.0\n",
      "\n",
      "\n",
      "\n"
     ]
    }
   ],
   "source": [
    "# Lists\n",
    "\n",
    "list1 = [1, 20, 35, 40, 0.5]\n",
    "list1.pop()           # removing the last element\n",
    "\n",
    "list1.sort(reverse = True)\n",
    "print(list1, \"\\n\")    # sorted in descending order\n",
    "\n",
    "list1.append(0.5)\n",
    "print(list1, \"\\n\")\n",
    "\n",
    "# nested list\n",
    "list2 = [[1, 2, 3], ['pi', 'e'], [0.0, -1.0, 1.0]]\n",
    "print(list2[2][0])    # 1st element from the second element in this nested list = 0.0\n",
    "\n",
    "\n",
    "print(\"\\n\\n\")"
   ]
  },
  {
   "cell_type": "code",
   "execution_count": 10,
   "metadata": {},
   "outputs": [
    {
     "name": "stdout",
     "output_type": "stream",
     "text": [
      "1 \n",
      "\n",
      "0 \n",
      "\n",
      "2 \n",
      "\n",
      "6\n",
      "\n",
      "\n",
      "\n"
     ]
    }
   ],
   "source": [
    "# Tuples (a.k.a the read-only list)\n",
    "\n",
    "tup = (1, 2, 3, 1, 5, 6)\n",
    "print(tup.index(2), \"\\n\")  # finding the index value of a particular element\n",
    "\n",
    "print(tup.index(1), \"\\n\")  # what about the other position?\n",
    "\n",
    "print(tup.count(1), \"\\n\")  # number of occurrence of a given element \n",
    "\n",
    "print(tup[-1])             # indexing and slicing works, but append() and pop() wont't!\n",
    "\n",
    "print(\"\\n\\n\")"
   ]
  },
  {
   "cell_type": "code",
   "execution_count": 11,
   "metadata": {},
   "outputs": [
    {
     "name": "stdout",
     "output_type": "stream",
     "text": [
      "{'Name': 'Sudhansh', 'Age': 24, 'D.O.B': '14 July 1997'} \n",
      "\n",
      "Age\t= 24 \n",
      "\n",
      "\n",
      "{'Name': 'Sudhansh', 'Age': 24, 'D.O.B': '14 July 1997', 'Location': 'India', 'email': 'sudhansh14@gmail.com'} \n",
      "\n",
      "{'Name': ['Sudhansh', 'Dua'], 'Age': 24, 'D.O.B': '14 July 1997', 'Location': 'India', 'email': 'sudhansh14@gmail.com'} \n",
      "\n",
      "{'Name': ['Sudhansh', 'Dua'], 'Age': 24, 'D.O.B': '14 July 1997', 'email': 'sudhansh14@gmail.com'} \n",
      "\n",
      "\n",
      "dict_keys(['Name', 'Age', 'D.O.B', 'email']) \n",
      "\n",
      "dict_values([['Sudhansh', 'Dua'], 24, '14 July 1997', 'sudhansh14@gmail.com']) \n",
      "\n",
      "dict_items([('Name', ['Sudhansh', 'Dua']), ('Age', 24), ('D.O.B', '14 July 1997'), ('email', 'sudhansh14@gmail.com')])\n",
      "\n",
      "\n",
      "\n"
     ]
    }
   ],
   "source": [
    "# Dictionary \n",
    "\n",
    "dict1 = {\"Name\": \"Sudhansh\",\n",
    "         \"Age\":  24,\n",
    "         \"D.O.B\": '14 July 1997'}\n",
    "print(dict1, \"\\n\")\n",
    "\n",
    "\n",
    "# instead of indexing we use keys to access the value that is associated with that key\n",
    "print(\"Age\\t=\", dict1[\"Age\"], \"\\n\\n\")\n",
    "\n",
    "\n",
    "# adding elements\n",
    "dict1[\"Location\"] = \"India\"\n",
    "dict1[\"email\"] = \"sudhansh14@gmail.com\"\n",
    "print(dict1, \"\\n\")\n",
    "\n",
    "\n",
    "# changing values\n",
    "dict1[\"Name\"] = [\"Sudhansh\", \"Dua\"]\n",
    "print(dict1, \"\\n\")\n",
    "\n",
    "\n",
    "# removing keys and elements\n",
    "dict1.pop(\"Location\")\n",
    "print(dict1, \"\\n\\n\")\n",
    "\n",
    "\n",
    "# getting all the keys\n",
    "print(dict1.keys(), \"\\n\")\n",
    "\n",
    "\n",
    "# getting all the values\n",
    "print(dict1.values(), \"\\n\")\n",
    "\n",
    "\n",
    "# getting the key-value pairs\n",
    "print(dict1.items())\n",
    "\n",
    "\n",
    "print(\"\\n\\n\")"
   ]
  },
  {
   "cell_type": "code",
   "execution_count": 12,
   "metadata": {},
   "outputs": [
    {
     "name": "stdout",
     "output_type": "stream",
     "text": [
      "{1, 2, 3} \n",
      "\n",
      "{1, 2, 3, 4.0} \n",
      "\n",
      "{4}\n",
      "\n",
      "\n",
      "\n"
     ]
    }
   ],
   "source": [
    "# Sets\n",
    "\n",
    "set1 = set({1, 2})\n",
    "\n",
    "# adding an element\n",
    "set1.add(3)\n",
    "print(set1, \"\\n\")\n",
    "\n",
    "# only unnique elements can be added\n",
    "set1.add(2)\n",
    "set1.add(4.0)\n",
    "print(set1, \"\\n\")\n",
    "\n",
    "\n",
    "set2 = set({4})\n",
    "\n",
    "# intersection is the two sets\n",
    "print(set1.intersection(set2))\n",
    "\n",
    "print(\"\\n\\n\")"
   ]
  },
  {
   "cell_type": "markdown",
   "metadata": {},
   "source": [
    "---\n",
    "### 7. Conversions"
   ]
  },
  {
   "cell_type": "code",
   "execution_count": 13,
   "metadata": {},
   "outputs": [
    {
     "name": "stdout",
     "output_type": "stream",
     "text": [
      "3 \n",
      "\n",
      "50.0 \n",
      "\n",
      "50 \tlength = 2\n",
      "\n",
      "\n",
      "\n"
     ]
    }
   ],
   "source": [
    "# Data type conversions\n",
    "\n",
    "\n",
    "# float to int\n",
    "pi = 3.141\n",
    "type(pi)\n",
    "pi = int(pi)\n",
    "print(pi, \"\\n\")\n",
    "\n",
    "\n",
    "# int to float\n",
    "num = 50\n",
    "print(float(num), \"\\n\")\n",
    "\n",
    "\n",
    "# float to string \n",
    "num = str(num)\n",
    "print(num, \"\\tlength =\", len(num))\n",
    "\n",
    "\n",
    "print(\"\\n\\n\")"
   ]
  },
  {
   "cell_type": "code",
   "execution_count": 14,
   "metadata": {},
   "outputs": [
    {
     "name": "stdout",
     "output_type": "stream",
     "text": [
      "(10, 20, 30, 40) \n",
      "\n",
      "[1, 2, 3]\n",
      "\n",
      "\n",
      "\n"
     ]
    }
   ],
   "source": [
    "# Container conversions\n",
    "\n",
    "# list to tuple\n",
    "list2 = [10, 20, 30, 40]\n",
    "print(tuple(list2), \"\\n\")\n",
    "\n",
    "\n",
    "# tuple to list\n",
    "tup2 = (1, 2, 3)\n",
    "print(list(tup2))\n",
    "\n",
    "\n",
    "print(\"\\n\\n\")"
   ]
  },
  {
   "cell_type": "markdown",
   "metadata": {},
   "source": [
    "---\n",
    "### 8. Input from the users"
   ]
  },
  {
   "cell_type": "code",
   "execution_count": 17,
   "metadata": {},
   "outputs": [
    {
     "name": "stdin",
     "output_type": "stream",
     "text": [
      "How would you like to pay?\n",
      "1) Cash ($ / £)\n",
      "2) Card (VISA / Mastercard)\n",
      "3) Crypto (BTC / ETH)\n",
      "\n",
      " 3\n"
     ]
    },
    {
     "name": "stdout",
     "output_type": "stream",
     "text": [
      "\n",
      "\n",
      "\n"
     ]
    }
   ],
   "source": [
    "input(\"How would you like to pay?\\n1) Cash ($ / £)\\n2) Card (VISA / Mastercard)\\n3) Crypto (BTC / ETH)\\n\\n\")\n",
    "print(\"\\n\\n\")"
   ]
  },
  {
   "cell_type": "code",
   "execution_count": 18,
   "metadata": {},
   "outputs": [
    {
     "name": "stdin",
     "output_type": "stream",
     "text": [
      "Enter a number 2\n"
     ]
    },
    {
     "name": "stdout",
     "output_type": "stream",
     "text": [
      "222\n",
      "\n",
      " <class 'str'>\n",
      "\n",
      "\n",
      "\n"
     ]
    }
   ],
   "source": [
    "x = input(\"Enter a number\")\n",
    "print(x * 3)        # it's not what it looks like!!\n",
    "\n",
    "print(\"\\n\", type(x))\n",
    "print(\"\\n\\n\")"
   ]
  },
  {
   "cell_type": "code",
   "execution_count": 19,
   "metadata": {},
   "outputs": [
    {
     "name": "stdin",
     "output_type": "stream",
     "text": [
      "Enter a number 10.5\n"
     ]
    },
    {
     "name": "stdout",
     "output_type": "stream",
     "text": [
      "Invalid entry!!! Please enter an integer\n",
      "\n",
      "\n"
     ]
    },
    {
     "name": "stdin",
     "output_type": "stream",
     "text": [
      "Enter another number 10\n"
     ]
    },
    {
     "name": "stdout",
     "output_type": "stream",
     "text": [
      "100\n",
      "\n",
      "\n",
      "\n"
     ]
    }
   ],
   "source": [
    "try:\n",
    "    x = input(\"Enter a number\")\n",
    "    print(\"3 times the number =\", int(x) * 3, \"\\n\")     # it is what it is!\n",
    "except ValueError:\n",
    "    print(\"Invalid entry!!! Please enter an integer\\n\\n\")\n",
    "\n",
    "    \n",
    "    \n",
    "y = int(input(\"Enter another number\"))\n",
    "print(y * 10)\n",
    "\n",
    "print(\"\\n\\n\")"
   ]
  }
 ],
 "metadata": {
  "kernelspec": {
   "display_name": "Python 3",
   "language": "python",
   "name": "python3"
  },
  "language_info": {
   "codemirror_mode": {
    "name": "ipython",
    "version": 3
   },
   "file_extension": ".py",
   "mimetype": "text/x-python",
   "name": "python",
   "nbconvert_exporter": "python",
   "pygments_lexer": "ipython3",
   "version": "3.8.3"
  }
 },
 "nbformat": 4,
 "nbformat_minor": 4
}
