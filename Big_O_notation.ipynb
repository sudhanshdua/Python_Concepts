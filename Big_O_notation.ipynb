{
 "cells": [
  {
   "cell_type": "markdown",
   "metadata": {},
   "source": [
    "## Algorithm analysis and Big O notation\n",
    "---"
   ]
  },
  {
   "cell_type": "code",
   "execution_count": 1,
   "metadata": {},
   "outputs": [],
   "source": [
    "# Method 1: sum = 1 + 2 + .... + n\n",
    "\n",
    "def sum_1(number):\n",
    "    sum_n = 0\n",
    "    \n",
    "    for i in range(number + 1):\n",
    "        sum_n += number\n",
    "    \n",
    "    return sum_n"
   ]
  },
  {
   "cell_type": "code",
   "execution_count": 2,
   "metadata": {},
   "outputs": [],
   "source": [
    "# Method 2: sum = 1 + 2 + .... + n\n",
    "\n",
    "def sum_2(number):\n",
    "    sum_n = (number * (number + 1))/2    # summation(n) formula"
   ]
  },
  {
   "cell_type": "code",
   "execution_count": 8,
   "metadata": {},
   "outputs": [
    {
     "name": "stdout",
     "output_type": "stream",
     "text": [
      "46 µs ± 1.33 µs per loop (mean ± std. dev. of 7 runs, 10000 loops each)\n"
     ]
    }
   ],
   "source": [
    "# time taken in microseconds\n",
    "\n",
    "%timeit sum_1(1000)"
   ]
  },
  {
   "cell_type": "code",
   "execution_count": 9,
   "metadata": {},
   "outputs": [
    {
     "name": "stdout",
     "output_type": "stream",
     "text": [
      "122 ns ± 0.222 ns per loop (mean ± std. dev. of 7 runs, 10000000 loops each)\n"
     ]
    }
   ],
   "source": [
    "# time taken in nanoseconds\n",
    "\n",
    "%timeit sum_2(1000)"
   ]
  },
  {
   "cell_type": "markdown",
   "metadata": {},
   "source": [
    "<br>\n",
    "\n",
    "### O(1): Constant"
   ]
  },
  {
   "cell_type": "code",
   "execution_count": 10,
   "metadata": {},
   "outputs": [
    {
     "name": "stdout",
     "output_type": "stream",
     "text": [
      "1\n"
     ]
    }
   ],
   "source": [
    "# printing the first element in the list\n",
    "\n",
    "def print_1_list(input_list):\n",
    "    print(input_list[0])\n",
    "\n",
    "# the size of the list is irrelevant to the computation time and complexity ==> constant\n",
    "list1 = [1, 2, 3, 4, 5]\n",
    "\n",
    "print_1_list(list1)"
   ]
  },
  {
   "cell_type": "markdown",
   "metadata": {},
   "source": [
    "<br>\n",
    "\n",
    "### O(n): Linear"
   ]
  },
  {
   "cell_type": "code",
   "execution_count": 11,
   "metadata": {},
   "outputs": [
    {
     "name": "stdout",
     "output_type": "stream",
     "text": [
      "1\n",
      "2\n",
      "3\n",
      "4\n",
      "5\n"
     ]
    }
   ],
   "source": [
    "# printing all the elements in the list: 1 loop\n",
    "\n",
    "def print_list(input_list):\n",
    "    for value in input_list:\n",
    "        print(value)\n",
    "\n",
    "        \n",
    "# The computation time and complexity is linearly dependent to the size of the list\n",
    "list1 = [1, 2, 3, 4, 5]\n",
    "\n",
    "print_list(list1)"
   ]
  },
  {
   "cell_type": "markdown",
   "metadata": {},
   "source": [
    "<br>\n",
    "\n",
    "### O(n$^2$): Quadratic"
   ]
  },
  {
   "cell_type": "code",
   "execution_count": 13,
   "metadata": {},
   "outputs": [
    {
     "name": "stdout",
     "output_type": "stream",
     "text": [
      "1 1\n",
      "2 2\n",
      "1 1\n",
      "2 2\n"
     ]
    }
   ],
   "source": [
    "# printing all possible pairs of elements in the list(repition allowed): 2 loops\n",
    "\n",
    "def print_list_pair(input_list):\n",
    "    for value in input_list:\n",
    "        for value in input_list:\n",
    "            print(value, value)\n",
    "\n",
    "        \n",
    "# The computation time and complexity is linearly dependent to the size of the list\n",
    "list1 = [1, 2]\n",
    "\n",
    "print_list_pair(list1)"
   ]
  },
  {
   "cell_type": "markdown",
   "metadata": {},
   "source": [
    "<br>\n",
    "\n",
    "### Insignificant constants\n"
   ]
  },
  {
   "cell_type": "code",
   "execution_count": 14,
   "metadata": {},
   "outputs": [
    {
     "name": "stdout",
     "output_type": "stream",
     "text": [
      "1\n",
      "1\n",
      "2\n",
      "Isn't this weird?\n",
      "Isn't this weird?\n",
      "Isn't this weird?\n",
      "Isn't this weird?\n",
      "Isn't this weird?\n"
     ]
    }
   ],
   "source": [
    "def weird_func(input_list):\n",
    "    print(input_list[0])                        # O(1) + \n",
    "    \n",
    "    midpoint = int(len(input_list)/2)\n",
    "    for value in input_list[ : midpoint]:       # O(n/2) +\n",
    "        print(value)\n",
    "        \n",
    "    for i in range(5):\n",
    "        print(\"Isn't this weird?\")              # O(5)\n",
    "        \n",
    "list1 = [1, 2, 3, 4, 5]\n",
    "\n",
    "weird_func(list1)\n",
    "\n",
    "# weird_func ---> O(1 + n/2 + 5)  ---> as n tends to infinity  --->  O(n)"
   ]
  },
  {
   "cell_type": "markdown",
   "metadata": {},
   "source": [
    "<br>\n",
    "\n",
    "### Space Complexity "
   ]
  },
  {
   "cell_type": "code",
   "execution_count": 16,
   "metadata": {},
   "outputs": [
    {
     "name": "stdout",
     "output_type": "stream",
     "text": [
      "Hello world!!\n",
      "Hello world!!\n",
      "Hello world!!\n"
     ]
    }
   ],
   "source": [
    "def printer(number):\n",
    "    \n",
    "    for i in range(number):       # time complexity ---> O(n)  ---> the size of the list is relevant to howm many times it'll be printed \n",
    "        print(\"Hello world!!\")    # space complexity --> O(1)  ---> the size of the list is irrelevant to what is/will be printed\n",
    "        \n",
    "        \n",
    "num = 3\n",
    "printer(num)"
   ]
  }
 ],
 "metadata": {
  "kernelspec": {
   "display_name": "Python 3",
   "language": "python",
   "name": "python3"
  },
  "language_info": {
   "codemirror_mode": {
    "name": "ipython",
    "version": 3
   },
   "file_extension": ".py",
   "mimetype": "text/x-python",
   "name": "python",
   "nbconvert_exporter": "python",
   "pygments_lexer": "ipython3",
   "version": "3.8.3"
  }
 },
 "nbformat": 4,
 "nbformat_minor": 4
}
