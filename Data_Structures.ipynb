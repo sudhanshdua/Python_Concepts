{
 "cells": [
  {
   "cell_type": "markdown",
   "metadata": {},
   "source": [
    "# Data Structures\n",
    "<br>\n",
    "\n",
    "### Dynamic Arrays\n",
    "---"
   ]
  },
  {
   "cell_type": "code",
   "execution_count": 2,
   "metadata": {},
   "outputs": [
    {
     "name": "stdout",
     "output_type": "stream",
     "text": [
      "Number of elements:  0 \tSize:  56 \n",
      "\n",
      "Number of elements:  1 \tSize:  88 \n",
      "\n",
      "Number of elements:  2 \tSize:  88 \n",
      "\n",
      "Number of elements:  3 \tSize:  88 \n",
      "\n",
      "Number of elements:  4 \tSize:  88 \n",
      "\n",
      "Number of elements:  5 \tSize:  120 \n",
      "\n",
      "Number of elements:  6 \tSize:  120 \n",
      "\n",
      "Number of elements:  7 \tSize:  120 \n",
      "\n",
      "Number of elements:  8 \tSize:  120 \n",
      "\n",
      "Number of elements:  9 \tSize:  184 \n",
      "\n"
     ]
    }
   ],
   "source": [
    "import sys\n",
    "\n",
    "number = 10\n",
    "\n",
    "# declaring an array witout a size argument\n",
    "data = []\n",
    "\n",
    "for i in range(number):\n",
    "    \n",
    "    # number of elements in the array\n",
    "    elem = len(data)\n",
    "    \n",
    "    # size of array in bytes\n",
    "    size = sys.getsizeof(data)\n",
    "    \n",
    "    print(\"Number of elements: \", elem, \"\\tSize: \", size, \"\\n\")\n",
    "    \n",
    "    data.append(number)      # data = [1, 2, 3, ..., 10]\n",
    "    \n",
    "       \n",
    "## Notice that the size increased at elem = 5, and then at elem = 9\n",
    "## the list is grabbing more memory in chunks until it can hold all the elements\n",
    "## the system actually creates a new array with 2x capacity, when the end of capacity is reached for the array"
   ]
  },
  {
   "cell_type": "code",
   "execution_count": null,
   "metadata": {},
   "outputs": [],
   "source": [
    "import ctypes\n",
    "\n",
    "class DynamicArray(object):\n",
    "    \n",
    "    def __init__(self):\n",
    "        self.elem = 0        # number of elements in array\n",
    "        self.capacity = 1    # number of elements the array can store\n",
    "        self.Array = self.create_array(self.capacity)\n",
    "        \n",
    "    def __len__(self):\n",
    "        return self.elem\n",
    "    \n",
    "    def __getindex__(self, i):\n",
    "        if i < 0 or i > self.elem-1:\n",
    "            return ValueError(\"Index out of bounds\")\n",
    "        self.Array[i-1]\n",
    "        return\n",
    "    \n",
    "        "
   ]
  }
 ],
 "metadata": {
  "kernelspec": {
   "display_name": "Python 3",
   "language": "python",
   "name": "python3"
  },
  "language_info": {
   "codemirror_mode": {
    "name": "ipython",
    "version": 3
   },
   "file_extension": ".py",
   "mimetype": "text/x-python",
   "name": "python",
   "nbconvert_exporter": "python",
   "pygments_lexer": "ipython3",
   "version": "3.8.3"
  }
 },
 "nbformat": 4,
 "nbformat_minor": 4
}
